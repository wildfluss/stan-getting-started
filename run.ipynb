{
 "cells": [
  {
   "cell_type": "code",
   "execution_count": 3,
   "metadata": {},
   "outputs": [
    {
     "name": "stderr",
     "output_type": "stream",
     "text": [
      "12:57:31 - cmdstanpy - INFO - CmdStan start processing\n",
      "chain 1 |\u001b[33m          \u001b[0m| 00:00 Status\n",
      "\u001b[A\n",
      "\n",
      "chain 1 |\u001b[34m██████████\u001b[0m| 00:00 Sampling completed\n",
      "chain 2 |\u001b[34m██████████\u001b[0m| 00:00 Sampling completed\n",
      "chain 3 |\u001b[34m██████████\u001b[0m| 00:00 Sampling completed\n",
      "chain 4 |\u001b[34m██████████\u001b[0m| 00:00 Sampling completed"
     ]
    },
    {
     "name": "stdout",
     "output_type": "stream",
     "text": [
      "                                                                                                                                                                                                                                                                                                                                "
     ]
    },
    {
     "name": "stderr",
     "output_type": "stream",
     "text": [
      "\n",
      "12:57:31 - cmdstanpy - INFO - CmdStan done processing.\n"
     ]
    },
    {
     "name": "stdout",
     "output_type": "stream",
     "text": [
      "\n"
     ]
    }
   ],
   "source": [
    "# h/t: https://cmdstanpy.readthedocs.io/en/stable-0.9.65/generate_quantities.html#example-add-posterior-predictive-checks-to-bernoulli-stan\n",
    "import os\n",
    "from cmdstanpy import CmdStanModel, cmdstan_path\n",
    "\n",
    "# bernoulli_dir = os.path.join(cmdstan_path(), \"examples\", \"bernoulli\")\n",
    "ball_path = \"ball.stan\"  # os.path.join(bernoulli_dir, \"ball.stan\")\n",
    "ball_data = \"ball.data.json\"  # os.path.join(bernoulli_dir, \"bernoulli.data.json\")\n",
    "\n",
    "# instantiate, compile model\n",
    "ball_model = CmdStanModel(stan_file=ball_path)\n",
    "\n",
    "# fit the model to the data\n",
    "ball_fit = ball_model.sample(data=ball_data)\n"
   ]
  },
  {
   "cell_type": "code",
   "execution_count": 4,
   "metadata": {},
   "outputs": [
    {
     "data": {
      "text/plain": [
       "CmdStanMCMC: model=ball chains=4['method=sample', 'algorithm=fixed_param']\n",
       " csv_files:\n",
       "\t/var/folders/vm/4fdswmjj11v2svb_66nc19h40000gn/T/tmpq22jwsnh/ballj63dkeaf/ball-20240407125731_1.csv\n",
       "\t/var/folders/vm/4fdswmjj11v2svb_66nc19h40000gn/T/tmpq22jwsnh/ballj63dkeaf/ball-20240407125731_2.csv\n",
       "\t/var/folders/vm/4fdswmjj11v2svb_66nc19h40000gn/T/tmpq22jwsnh/ballj63dkeaf/ball-20240407125731_3.csv\n",
       "\t/var/folders/vm/4fdswmjj11v2svb_66nc19h40000gn/T/tmpq22jwsnh/ballj63dkeaf/ball-20240407125731_4.csv\n",
       " output_files:\n",
       "\t/var/folders/vm/4fdswmjj11v2svb_66nc19h40000gn/T/tmpq22jwsnh/ballj63dkeaf/ball-20240407125731_0-stdout.txt\n",
       "\t/var/folders/vm/4fdswmjj11v2svb_66nc19h40000gn/T/tmpq22jwsnh/ballj63dkeaf/ball-20240407125731_1-stdout.txt\n",
       "\t/var/folders/vm/4fdswmjj11v2svb_66nc19h40000gn/T/tmpq22jwsnh/ballj63dkeaf/ball-20240407125731_2-stdout.txt\n",
       "\t/var/folders/vm/4fdswmjj11v2svb_66nc19h40000gn/T/tmpq22jwsnh/ballj63dkeaf/ball-20240407125731_3-stdout.txt"
      ]
     },
     "execution_count": 4,
     "metadata": {},
     "output_type": "execute_result"
    }
   ],
   "source": [
    "ball_fit"
   ]
  },
  {
   "cell_type": "code",
   "execution_count": 6,
   "metadata": {},
   "outputs": [
    {
     "name": "stderr",
     "output_type": "stream",
     "text": [
      "12:58:32 - cmdstanpy - WARNING - CmdStanModel.compile() is deprecated and will be removed in the next major version. To compile a model, use the CmdStanModel() constructor or cmdstanpy.compile_stan_file().\n",
      "12:58:32 - cmdstanpy - WARNING - Argument name `mcmc_sample` is deprecated, please rename to `previous_fit`.\n",
      "12:58:32 - cmdstanpy - INFO - Chain [1] start processing\n",
      "12:58:32 - cmdstanpy - INFO - Chain [2] start processing\n",
      "12:58:32 - cmdstanpy - INFO - Chain [3] start processing\n",
      "12:58:32 - cmdstanpy - INFO - Chain [4] start processing\n",
      "12:58:32 - cmdstanpy - INFO - Chain [1] done processing\n",
      "12:58:32 - cmdstanpy - INFO - Chain [2] done processing\n",
      "12:58:32 - cmdstanpy - ERROR - Chain [1] error: error during processing Operation not permitted\n",
      "12:58:32 - cmdstanpy - INFO - Chain [3] done processing\n",
      "12:58:32 - cmdstanpy - ERROR - Chain [2] error: error during processing Operation not permitted\n",
      "12:58:32 - cmdstanpy - ERROR - Chain [3] error: error during processing Operation not permitted\n",
      "12:58:32 - cmdstanpy - INFO - Chain [4] done processing\n",
      "12:58:32 - cmdstanpy - ERROR - Chain [4] error: error during processing Operation not permitted\n"
     ]
    }
   ],
   "source": [
    "ball_model.compile()\n",
    "new_quantities = ball_model.generate_quantities(data=ball_data, mcmc_sample=ball_fit)"
   ]
  },
  {
   "cell_type": "code",
   "execution_count": 8,
   "metadata": {},
   "outputs": [
    {
     "data": {
      "text/plain": [
       "('',)"
      ]
     },
     "execution_count": 8,
     "metadata": {},
     "output_type": "execute_result"
    }
   ],
   "source": [
    "new_quantities.column_names"
   ]
  }
 ],
 "metadata": {
  "kernelspec": {
   "display_name": "stan-311",
   "language": "python",
   "name": "python3"
  },
  "language_info": {
   "codemirror_mode": {
    "name": "ipython",
    "version": 3
   },
   "file_extension": ".py",
   "mimetype": "text/x-python",
   "name": "python",
   "nbconvert_exporter": "python",
   "pygments_lexer": "ipython3",
   "version": "3.11.8"
  }
 },
 "nbformat": 4,
 "nbformat_minor": 2
}
